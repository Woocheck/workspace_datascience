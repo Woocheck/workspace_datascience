{
 "cells": [
  {
   "cell_type": "code",
   "execution_count": 1,
   "metadata": {},
   "outputs": [],
   "source": [
    "import urllib.request\n",
    "from bs4 import BeautifulSoup as bs\n",
    "import pandas as pd\n",
    "\n",
    "\n",
    "df = pd.read_csv (r'cities.csv')\n",
    "\n",
    "listOfCitiesLinks = []\n",
    "\n",
    "for a, b in df.iterrows():\n",
    "    listOfCitiesLinks.append(b[2])\n",
    "del df\n",
    "\n",
    "for city in listOfCitiesLinks:\n",
    "    page = urllib.request.urlopen( city )\n",
    "    soup = bs(page)\n"
   ]
  }
 ],
 "metadata": {
  "interpreter": {
   "hash": "0bfdf490f0665571e0f26ab921e6f226442f0f2715131240762cad6b7ef65b32"
  },
  "kernelspec": {
   "display_name": "Python 3.10.4 ('workspace_datascience')",
   "language": "python",
   "name": "python3"
  },
  "language_info": {
   "codemirror_mode": {
    "name": "ipython",
    "version": 3
   },
   "file_extension": ".py",
   "mimetype": "text/x-python",
   "name": "python",
   "nbconvert_exporter": "python",
   "pygments_lexer": "ipython3",
   "version": "3.10.4"
  },
  "orig_nbformat": 4
 },
 "nbformat": 4,
 "nbformat_minor": 2
}
