{
 "cells": [
  {
   "cell_type": "code",
   "execution_count": 29,
   "metadata": {},
   "outputs": [
    {
     "name": "stdout",
     "output_type": "stream",
     "text": [
      "Empty DataFrame\n",
      "Columns: [Państwo, Województwo, Powiat, Aglomeracja, Data Założena, Prawa miejskie, Burmistrz, Pole powierzchni, Wysokość, Liczba ludności i Gęstość, Strefa numeracyjna, Kod pocztowy, Tablice rejestracyjne]\n",
      "Index: []\n"
     ]
    },
    {
     "name": "stderr",
     "output_type": "stream",
     "text": [
      "C:\\Users\\wooch\\AppData\\Local\\Temp\\ipykernel_11284\\3399082491.py:36: FutureWarning: The frame.append method is deprecated and will be removed from pandas in a future version. Use pandas.concat instead.\n",
      "  CitiesData.append( rowDataSeries, ignore_index=True)\n"
     ]
    }
   ],
   "source": [
    "import requests\n",
    "from bs4 import BeautifulSoup as bs\n",
    "import pandas as pd\n",
    "import re\n",
    "\n",
    "\n",
    "df = pd.read_csv (r'cities.csv')\n",
    "\n",
    "listOfCitiesLinks = []\n",
    "\n",
    "for a, b in df.iterrows():\n",
    "    listOfCitiesLinks.append(b[2])\n",
    "del df\n",
    "\n",
    "for city in listOfCitiesLinks[:1]:\n",
    "    \n",
    "    dfs = requests.get( city )\n",
    "    soup = bs( dfs.text ,'html.parser' )\n",
    "    \n",
    "    \n",
    "    columnNames = [\"Państwo\",\"Województwo\", \"Powiat\", \"Aglomeracja\", \n",
    "                   \"Data Założena\", \"Prawa miejskie\", \"Burmistrz\", \"Pole powierzchni\",\n",
    "                   \"Wysokość\", \"Liczba ludności i Gęstość\",\"Strefa numeracyjna\", \"Kod pocztowy\", \"Tablice rejestracyjne\"\n",
    "                    ]\n",
    "    CitiesData = pd.DataFrame( columns=columnNames )\n",
    "    infobox = soup.find( 'table', {'class':'infobox'})\n",
    "    \n",
    "    infobox_body = infobox.find('tbody')\n",
    "    rows = infobox_body.find_all( 'tr')\n",
    "    rowData = []\n",
    "    for row in rows:\n",
    "        cols = row.find_all('td')\n",
    "        cols = [ele.text.strip() for ele in cols]\n",
    "        rowData.append(cols)\n",
    "    rowDataSeries = pd.Series( rowData[6:-13], index=columnNames)\n",
    "    CitiesData.append( rowDataSeries, ignore_index=True)\n",
    "    \n",
    "    print( CitiesData )                     \n",
    "     \n"
   ]
  }
 ],
 "metadata": {
  "interpreter": {
   "hash": "0bfdf490f0665571e0f26ab921e6f226442f0f2715131240762cad6b7ef65b32"
  },
  "kernelspec": {
   "display_name": "Python 3.10.4 ('workspace_datascience')",
   "language": "python",
   "name": "python3"
  },
  "language_info": {
   "codemirror_mode": {
    "name": "ipython",
    "version": 3
   },
   "file_extension": ".py",
   "mimetype": "text/x-python",
   "name": "python",
   "nbconvert_exporter": "python",
   "pygments_lexer": "ipython3",
   "version": "3.10.4"
  },
  "orig_nbformat": 4
 },
 "nbformat": 4,
 "nbformat_minor": 2
}
