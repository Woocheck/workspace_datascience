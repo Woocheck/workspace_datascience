{
 "cells": [
  {
   "cell_type": "code",
   "execution_count": 2,
   "metadata": {},
   "outputs": [
    {
     "name": "stdout",
     "output_type": "stream",
     "text": [
      "Len:  14\n",
      "                 Miasto         Burmistrz\n",
      "0  Aleksandrów Kujawski  Arkadiusz Gralak\n",
      "Len:  14\n",
      "                 Miasto         Burmistrz\n",
      "0  Aleksandrów Kujawski  Arkadiusz Gralak\n",
      "1    Aleksandrów Łódzki    Jacek Lipiński\n",
      "Len:  14\n",
      "                 Miasto                              Burmistrz\n",
      "0  Aleksandrów Kujawski                       Arkadiusz Gralak\n",
      "1    Aleksandrów Łódzki                         Jacek Lipiński\n",
      "2              Alwernia  1778–1784, 1808–1868, 1879–1896, 1993\n",
      "Len:  14\n",
      "                 Miasto                              Burmistrz\n",
      "0  Aleksandrów Kujawski                       Arkadiusz Gralak\n",
      "1    Aleksandrów Łódzki                         Jacek Lipiński\n",
      "2              Alwernia  1778–1784, 1808–1868, 1879–1896, 1993\n",
      "3             Andrychów                             Tomasz Żak\n",
      "Len:  14\n",
      "                 Miasto                              Burmistrz\n",
      "0  Aleksandrów Kujawski                       Arkadiusz Gralak\n",
      "1    Aleksandrów Łódzki                         Jacek Lipiński\n",
      "2              Alwernia  1778–1784, 1808–1868, 1879–1896, 1993\n",
      "3             Andrychów                             Tomasz Żak\n",
      "4               Annopol                         Mirosław Gazda\n"
     ]
    }
   ],
   "source": [
    "import requests\n",
    "from bs4 import BeautifulSoup as bs\n",
    "import pandas as pd\n",
    "import re\n",
    "\n",
    "\n",
    "df = pd.read_csv (r'cities.csv')\n",
    "\n",
    "listOfCitiesLinks = []\n",
    "\n",
    "for a, b in df.iterrows():\n",
    "    listOfCitiesLinks.append([b[1],b[2]])\n",
    "del df\n",
    "\n",
    "columnNames = [\"Miasto\",\"Państwo\",\"Województwo\", \"Powiat\", \"Aglomeracja\", \n",
    "                   \"Data Założena\", \"Prawa miejskie\", \"Burmistrz\", \"Pole powierzchni\",\n",
    "                   \"Wysokość\", \"Liczba ludności i Gęstość\",\"Strefa numeracyjna\", \"Kod pocztowy\", \"Tablice rejestracyjne\"\n",
    "                    ]\n",
    "CitiesData = pd.DataFrame( columns=columnNames )\n",
    "\n",
    "for city, cityLink in listOfCitiesLinks[:5]:\n",
    "    \n",
    "    dfs = requests.get( cityLink )\n",
    "    soup = bs( dfs.text ,'html.parser' )\n",
    "        \n",
    "    infobox = soup.find( 'table', {'class':'infobox'})\n",
    "    infobox_body = infobox.find('tbody')\n",
    "    rows = infobox_body.find_all( 'tr')\n",
    "    inboxRowData = []\n",
    "    \n",
    "    for row in rows:\n",
    "        cols = row.find_all('td')\n",
    "        cols = [ele.text.strip() for ele in cols]\n",
    "        inboxRowData.append(cols[0])\n",
    "    \n",
    "    rowData = [city]+inboxRowData[6:19]\n",
    "    print(\"Len: \",len(rowData))\n",
    "    CitiesData.loc[len(CitiesData)]=rowData\n",
    "    #CitiesData.append(pd.DataFrame(rowData, columns=columnNames), ignore_index=True)\n",
    "    print(CitiesData[[\"Miasto\", \"Burmistrz\"]])"
   ]
  }
 ],
 "metadata": {
  "interpreter": {
   "hash": "0bfdf490f0665571e0f26ab921e6f226442f0f2715131240762cad6b7ef65b32"
  },
  "kernelspec": {
   "display_name": "Python 3.10.4 ('workspace_datascience')",
   "language": "python",
   "name": "python3"
  },
  "language_info": {
   "codemirror_mode": {
    "name": "ipython",
    "version": 3
   },
   "file_extension": ".py",
   "mimetype": "text/x-python",
   "name": "python",
   "nbconvert_exporter": "python",
   "pygments_lexer": "ipython3",
   "version": "3.10.4"
  },
  "orig_nbformat": 4
 },
 "nbformat": 4,
 "nbformat_minor": 2
}
