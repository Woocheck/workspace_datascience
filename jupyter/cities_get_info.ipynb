{
 "cells": [
  {
   "cell_type": "code",
   "execution_count": 5,
   "metadata": {},
   "outputs": [
    {
     "name": "stdout",
     "output_type": "stream",
     "text": [
      "[<th><a href=\"/wiki/Pa%C5%84stwo\" title=\"Państwo\">Państwo</a>\n",
      "</th>]\n",
      "[<th><a href=\"/wiki/Podzia%C5%82_administracyjny_Polski\" title=\"Podział administracyjny Polski\">Województwo</a>\n",
      "</th>]\n",
      "[<th><a href=\"/wiki/Powiat_(Polska)\" title=\"Powiat (Polska)\">Powiat</a>\n",
      "</th>]\n",
      "[<th><a href=\"/wiki/Aglomeracja\" title=\"Aglomeracja\">Aglomeracja</a>\n",
      "</th>]\n",
      "[<th>Data założenia\n",
      "</th>]\n",
      "[<th><a href=\"/wiki/Prawa_miejskie\" title=\"Prawa miejskie\">Prawa miejskie</a>\n",
      "</th>]\n",
      "[<th><a href=\"/wiki/Burmistrz\" title=\"Burmistrz\">Burmistrz</a>\n",
      "</th>]\n",
      "[<th><a href=\"/wiki/Pole_powierzchni\" title=\"Pole powierzchni\">Powierzchnia</a>\n",
      "</th>]\n",
      "[<th>Wysokość\n",
      "</th>]\n",
      "[<th>Populacja <small>(31.12.2019)</small><br/>• liczba ludności<br/>• gęstość\n",
      "</th>]\n",
      "[<th><a href=\"/wiki/Plan_numeracji_krajowej\" title=\"Plan numeracji krajowej\">Strefa numeracyjna</a>\n",
      "</th>]\n",
      "[<th><a href=\"/wiki/Kod_pocztowy\" title=\"Kod pocztowy\">Kod pocztowy</a>\n",
      "</th>]\n",
      "[<th><a class=\"extiw\" href=\"https://pl.wikisource.org/wiki/Polskie_tablice_rejestracyjne\" title=\"s:Polskie tablice rejestracyjne\">Tablice rejestracyjne</a>\n",
      "</th>]\n",
      "[]\n"
     ]
    }
   ],
   "source": [
    "import requests\n",
    "from bs4 import BeautifulSoup as bs\n",
    "import pandas as pd\n",
    "\n",
    "\n",
    "df = pd.read_csv (r'cities.csv')\n",
    "\n",
    "listOfCitiesLinks = []\n",
    "\n",
    "for a, b in df.iterrows():\n",
    "    listOfCitiesLinks.append(b[2])\n",
    "del df\n",
    "\n",
    "for city in listOfCitiesLinks[:1]:\n",
    "    \n",
    "    dfs = requests.get( city )\n",
    "    soup = bs( dfs.text ,'html.parser' )\n",
    "    \n",
    "    infobox = soup.find( 'table', {'class':'infobox'})\n",
    "    for row in infobox.find_all( 'tr' )[6:20]:\n",
    "        dataType = row.find_all( 'th' )\n",
    "        print( dataType)\n",
    "        \n"
   ]
  }
 ],
 "metadata": {
  "interpreter": {
   "hash": "0bfdf490f0665571e0f26ab921e6f226442f0f2715131240762cad6b7ef65b32"
  },
  "kernelspec": {
   "display_name": "Python 3.10.4 ('workspace_datascience')",
   "language": "python",
   "name": "python3"
  },
  "language_info": {
   "codemirror_mode": {
    "name": "ipython",
    "version": 3
   },
   "file_extension": ".py",
   "mimetype": "text/x-python",
   "name": "python",
   "nbconvert_exporter": "python",
   "pygments_lexer": "ipython3",
   "version": "3.10.4"
  },
  "orig_nbformat": 4
 },
 "nbformat": 4,
 "nbformat_minor": 2
}
