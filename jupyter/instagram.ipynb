{
 "cells": [
  {
   "cell_type": "code",
   "execution_count": 5,
   "metadata": {},
   "outputs": [],
   "source": [
    "#imports here\n",
    "from selenium import webdriver\n",
    "from selenium.webdriver.common.keys import Keys\n",
    "from selenium.webdriver.support import expected_conditions as EC\n",
    "from selenium.webdriver.common.by import By\n",
    "from selenium.webdriver.support.wait import WebDriverWait"
   ]
  },
  {
   "cell_type": "code",
   "execution_count": 6,
   "metadata": {},
   "outputs": [
    {
     "name": "stderr",
     "output_type": "stream",
     "text": [
      "C:\\Users\\wooch\\AppData\\Local\\Temp\\ipykernel_3540\\169082066.py:2: DeprecationWarning: executable_path has been deprecated, please pass in a Service object\n",
      "  driver = webdriver.Chrome('G:\\chrom\\chromedriver.exe')\n"
     ]
    }
   ],
   "source": [
    "#specify the path to chromedriver.exe (download and save on your computer)\n",
    "driver = webdriver.Chrome('G:\\chrom\\chromedriver.exe')\n",
    "\n",
    "#open the webpage\n",
    "driver.get(\"http://www.instagram.com\")\n",
    "\n",
    "not_nowAccept = WebDriverWait(driver, 10).until(EC.element_to_be_clickable((By.XPATH, '//button[contains(text(), \"Zezwól na korzystanie z niezbędnych i opcjonalnych plików cookie\")]'))).click()\n",
    "#target username\n",
    "username = WebDriverWait(driver, 10).until(EC.element_to_be_clickable((By.CSS_SELECTOR, \"input[name='username']\")))\n",
    "password = WebDriverWait(driver, 10).until(EC.element_to_be_clickable((By.CSS_SELECTOR, \"input[name='password']\")))\n",
    "\n",
    "\n",
    "#enter username and password\n",
    "username.clear()\n",
    "username.send_keys(\"+48880441893\")\n",
    "password.clear()\n",
    "password.send_keys(\"Instagram0-\")\n",
    "\n",
    "#target the login button and click it\n",
    "button = WebDriverWait(driver, 2).until(EC.element_to_be_clickable((By.CSS_SELECTOR, \"button[type='submit']\"))).click()\n",
    "\n",
    "#We are logged in!\n",
    "\n"
   ]
  },
  {
   "cell_type": "code",
   "execution_count": 7,
   "metadata": {},
   "outputs": [
    {
     "ename": "TimeoutException",
     "evalue": "Message: \nStacktrace:\nBacktrace:\n\tOrdinal0 [0x00B47413+2389011]\n\tOrdinal0 [0x00AD9F61+1941345]\n\tOrdinal0 [0x009CC658+837208]\n\tOrdinal0 [0x009F91DD+1020381]\n\tOrdinal0 [0x009F949B+1021083]\n\tOrdinal0 [0x00A26032+1204274]\n\tOrdinal0 [0x00A14194+1130900]\n\tOrdinal0 [0x00A24302+1196802]\n\tOrdinal0 [0x00A13F66+1130342]\n\tOrdinal0 [0x009EE546+976198]\n\tOrdinal0 [0x009EF456+980054]\n\tGetHandleVerifier [0x00CF9632+1727522]\n\tGetHandleVerifier [0x00DABA4D+2457661]\n\tGetHandleVerifier [0x00BDEB81+569713]\n\tGetHandleVerifier [0x00BDDD76+566118]\n\tOrdinal0 [0x00AE0B2B+1968939]\n\tOrdinal0 [0x00AE5988+1989000]\n\tOrdinal0 [0x00AE5A75+1989237]\n\tOrdinal0 [0x00AEECB1+2026673]\n\tBaseThreadInitThunk [0x7566FA29+25]\n\tRtlGetAppContainerNamedObjectPath [0x77367A7E+286]\n\tRtlGetAppContainerNamedObjectPath [0x77367A4E+238]\n",
     "output_type": "error",
     "traceback": [
      "\u001b[1;31m---------------------------------------------------------------------------\u001b[0m",
      "\u001b[1;31mTimeoutException\u001b[0m                          Traceback (most recent call last)",
      "\u001b[1;32mg:\\workspace_datascience\\workspace_datascience\\jupyter\\instagram.ipynb Cell 3'\u001b[0m in \u001b[0;36m<cell line: 3>\u001b[1;34m()\u001b[0m\n\u001b[0;32m      <a href='vscode-notebook-cell:/g%3A/workspace_datascience/workspace_datascience/jupyter/instagram.ipynb#ch0000002?line=0'>1</a>\u001b[0m \u001b[39m#nadle NOT NOW\u001b[39;00m\n\u001b[0;32m      <a href='vscode-notebook-cell:/g%3A/workspace_datascience/workspace_datascience/jupyter/instagram.ipynb#ch0000002?line=1'>2</a>\u001b[0m not_now \u001b[39m=\u001b[39m WebDriverWait(driver, \u001b[39m10\u001b[39m)\u001b[39m.\u001b[39muntil(EC\u001b[39m.\u001b[39melement_to_be_clickable((By\u001b[39m.\u001b[39mXPATH, \u001b[39m'\u001b[39m\u001b[39m//button[contains(text(), \u001b[39m\u001b[39m\"\u001b[39m\u001b[39mNie teraz\u001b[39m\u001b[39m\"\u001b[39m\u001b[39m)]\u001b[39m\u001b[39m'\u001b[39m)))\u001b[39m.\u001b[39mclick()\n\u001b[1;32m----> <a href='vscode-notebook-cell:/g%3A/workspace_datascience/workspace_datascience/jupyter/instagram.ipynb#ch0000002?line=2'>3</a>\u001b[0m not_now2 \u001b[39m=\u001b[39m WebDriverWait(driver, \u001b[39m10\u001b[39;49m)\u001b[39m.\u001b[39;49muntil(EC\u001b[39m.\u001b[39;49melement_to_be_clickable((By\u001b[39m.\u001b[39;49mXPATH, \u001b[39m'\u001b[39;49m\u001b[39m//button[contains(text(), \u001b[39;49m\u001b[39m\"\u001b[39;49m\u001b[39mNie teraz\u001b[39;49m\u001b[39m\"\u001b[39;49m\u001b[39m)]\u001b[39;49m\u001b[39m'\u001b[39;49m)))\u001b[39m.\u001b[39mclick()\n",
      "File \u001b[1;32mc:\\Users\\wooch\\anaconda3\\envs\\workspace_datascience\\lib\\site-packages\\selenium\\webdriver\\support\\wait.py:89\u001b[0m, in \u001b[0;36mWebDriverWait.until\u001b[1;34m(self, method, message)\u001b[0m\n\u001b[0;32m     <a href='file:///c%3A/Users/wooch/anaconda3/envs/workspace_datascience/lib/site-packages/selenium/webdriver/support/wait.py?line=86'>87</a>\u001b[0m     \u001b[39mif\u001b[39;00m time\u001b[39m.\u001b[39mmonotonic() \u001b[39m>\u001b[39m end_time:\n\u001b[0;32m     <a href='file:///c%3A/Users/wooch/anaconda3/envs/workspace_datascience/lib/site-packages/selenium/webdriver/support/wait.py?line=87'>88</a>\u001b[0m         \u001b[39mbreak\u001b[39;00m\n\u001b[1;32m---> <a href='file:///c%3A/Users/wooch/anaconda3/envs/workspace_datascience/lib/site-packages/selenium/webdriver/support/wait.py?line=88'>89</a>\u001b[0m \u001b[39mraise\u001b[39;00m TimeoutException(message, screen, stacktrace)\n",
      "\u001b[1;31mTimeoutException\u001b[0m: Message: \nStacktrace:\nBacktrace:\n\tOrdinal0 [0x00B47413+2389011]\n\tOrdinal0 [0x00AD9F61+1941345]\n\tOrdinal0 [0x009CC658+837208]\n\tOrdinal0 [0x009F91DD+1020381]\n\tOrdinal0 [0x009F949B+1021083]\n\tOrdinal0 [0x00A26032+1204274]\n\tOrdinal0 [0x00A14194+1130900]\n\tOrdinal0 [0x00A24302+1196802]\n\tOrdinal0 [0x00A13F66+1130342]\n\tOrdinal0 [0x009EE546+976198]\n\tOrdinal0 [0x009EF456+980054]\n\tGetHandleVerifier [0x00CF9632+1727522]\n\tGetHandleVerifier [0x00DABA4D+2457661]\n\tGetHandleVerifier [0x00BDEB81+569713]\n\tGetHandleVerifier [0x00BDDD76+566118]\n\tOrdinal0 [0x00AE0B2B+1968939]\n\tOrdinal0 [0x00AE5988+1989000]\n\tOrdinal0 [0x00AE5A75+1989237]\n\tOrdinal0 [0x00AEECB1+2026673]\n\tBaseThreadInitThunk [0x7566FA29+25]\n\tRtlGetAppContainerNamedObjectPath [0x77367A7E+286]\n\tRtlGetAppContainerNamedObjectPath [0x77367A4E+238]\n"
     ]
    }
   ],
   "source": [
    "#nadle NOT NOW\n",
    "not_now = WebDriverWait(driver, 10).until(EC.element_to_be_clickable((By.XPATH, '//button[contains(text(), \"Nie teraz\")]'))).click()\n",
    "not_now2 = WebDriverWait(driver, 10).until(EC.element_to_be_clickable((By.XPATH, '//button[contains(text(), \"Nie teraz\")]'))).click()"
   ]
  },
  {
   "cell_type": "code",
   "execution_count": null,
   "metadata": {},
   "outputs": [],
   "source": [
    "import time\n",
    "\n",
    "#target the search input field\n",
    "searchbox = WebDriverWait(driver, 10).until(EC.element_to_be_clickable((By.XPATH, \"//input[@placeholder='Search']\")))\n",
    "searchbox.clear()\n",
    "\n",
    "#search for the hashtag cat\n",
    "keyword = \"#cat\"\n",
    "searchbox.send_keys(keyword)\n",
    " \n",
    "# Wait for 5 seconds\n",
    "time.sleep(5)\n",
    "searchbox.send_keys(Keys.ENTER)\n",
    "time.sleep(5)\n",
    "searchbox.send_keys(Keys.ENTER)\n",
    "time.sleep(5)\n",
    "\n",
    "#scroll down to scrape more images\n",
    "driver.execute_script(\"window.scrollTo(0, 4000);\")\n",
    "\n",
    "#target all images on the page\n",
    "images = driver.find_elements_by_tag_name('img')\n",
    "images = [image.get_attribute('src') for image in images]\n",
    "images = images[:-2]\n",
    "\n",
    "print('Number of scraped images: ', len(images))"
   ]
  },
  {
   "cell_type": "code",
   "execution_count": null,
   "metadata": {},
   "outputs": [],
   "source": [
    "import os\n",
    "import wget\n",
    "\n",
    "path = os.getcwd()\n",
    "path = os.path.join(path, keyword[1:] + \"s\")\n",
    "\n",
    "#create the directory\n",
    "os.mkdir(path)\n",
    "\n",
    "path"
   ]
  },
  {
   "cell_type": "code",
   "execution_count": null,
   "metadata": {},
   "outputs": [],
   "source": [
    "#download images\n",
    "counter = 0\n",
    "for image in images:\n",
    "    save_as = os.path.join(path, keyword[1:] + str(counter) + '.jpg')\n",
    "    wget.download(image, save_as)\n",
    "    counter += 1"
   ]
  }
 ],
 "metadata": {
  "interpreter": {
   "hash": "0bfdf490f0665571e0f26ab921e6f226442f0f2715131240762cad6b7ef65b32"
  },
  "kernelspec": {
   "display_name": "Python 3.10.4 ('workspace_datascience')",
   "language": "python",
   "name": "python3"
  },
  "language_info": {
   "codemirror_mode": {
    "name": "ipython",
    "version": 3
   },
   "file_extension": ".py",
   "mimetype": "text/x-python",
   "name": "python",
   "nbconvert_exporter": "python",
   "pygments_lexer": "ipython3",
   "version": "3.10.4"
  },
  "orig_nbformat": 4
 },
 "nbformat": 4,
 "nbformat_minor": 2
}
