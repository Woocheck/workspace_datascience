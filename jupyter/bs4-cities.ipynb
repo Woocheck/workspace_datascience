{
 "cells": [
  {
   "cell_type": "code",
   "execution_count": 39,
   "metadata": {},
   "outputs": [],
   "source": [
    "import urllib.request\n",
    "from bs4 import BeautifulSoup as bs\n",
    "import re\n",
    "import pandas as pd\n",
    "\n",
    "url = \"https://pl.wikipedia.org/wiki/Miasta_w_Polsce\"\n",
    "\n",
    "page = urllib.request.urlopen( url )\n",
    "soup = bs( page, 'html.parser' )\n",
    "\n",
    "links = soup.find_all(  \"ul\" )\n"
   ]
  },
  {
   "cell_type": "code",
   "execution_count": 40,
   "metadata": {},
   "outputs": [],
   "source": [
    "url = [ href for href in links ]\n",
    "result = re.findall( \"/wiki/[a-z || A-Z || _ || %C3%B3 || %C4%85 || %C4%87 || %C4%99 \\\n",
    "                        || %C5%82 || %C5%84 || %C3%B3 || %C5%9B || %C5%BA || %C5%BC || \\\n",
    "                        %C4%84 || %C4%86 || %C4%98 || %C5%81 || %C5%83 || %C3%93 || %C5%9A\\ || %C5%B9 ||%C5%BB]*.\\\" title=\\\"[A-Za-zżźćńółęąśŻŹĆĄŚĘŁÓŃ || \\s]*\" , \n",
    "                        str(url) ) \n",
    "del result[1042:]\n",
    "del result[0:163] \n"
   ]
  },
  {
   "cell_type": "code",
   "execution_count": 41,
   "metadata": {},
   "outputs": [],
   "source": [
    "df = pd.DataFrame( result )\n",
    "df.to_csv(\"cities.csv\")"
   ]
  }
 ],
 "metadata": {
  "interpreter": {
   "hash": "0bfdf490f0665571e0f26ab921e6f226442f0f2715131240762cad6b7ef65b32"
  },
  "kernelspec": {
   "display_name": "Python 3.10.4 ('workspace_datascience')",
   "language": "python",
   "name": "python3"
  },
  "language_info": {
   "codemirror_mode": {
    "name": "ipython",
    "version": 3
   },
   "file_extension": ".py",
   "mimetype": "text/x-python",
   "name": "python",
   "nbconvert_exporter": "python",
   "pygments_lexer": "ipython3",
   "version": "3.10.4"
  },
  "orig_nbformat": 4
 },
 "nbformat": 4,
 "nbformat_minor": 2
}
