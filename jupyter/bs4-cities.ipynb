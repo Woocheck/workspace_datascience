{
 "cells": [
  {
   "cell_type": "code",
   "execution_count": 1,
   "metadata": {},
   "outputs": [],
   "source": [
    "import urllib.request\n",
    "from bs4 import BeautifulSoup as bs\n",
    "import re\n",
    "import pandas as pd\n",
    "\n",
    "url = \"https://pl.wikipedia.org/wiki/Miasta_w_Polsce\"\n",
    "\n",
    "page = urllib.request.urlopen( url )\n",
    "soup = bs( page, 'html.parser' )\n",
    "\n",
    "links = soup.find_all(  \"ul\" )\n"
   ]
  },
  {
   "cell_type": "code",
   "execution_count": 2,
   "metadata": {},
   "outputs": [
    {
     "name": "stderr",
     "output_type": "stream",
     "text": [
      "C:\\Users\\wooch\\AppData\\Local\\Temp\\ipykernel_6132\\1764071256.py:2: FutureWarning: Possible set union at position 11\n",
      "  result = re.findall( \"/wiki/[a-z || A-Z || _ || ( || ) || %C3%B3 || %C4%85 || %C4%87 || %C4%99 \\\n",
      "C:\\Users\\wooch\\AppData\\Local\\Temp\\ipykernel_6132\\1764071256.py:2: FutureWarning: Possible set union at position 18\n",
      "  result = re.findall( \"/wiki/[a-z || A-Z || _ || ( || ) || %C3%B3 || %C4%85 || %C4%87 || %C4%99 \\\n",
      "C:\\Users\\wooch\\AppData\\Local\\Temp\\ipykernel_6132\\1764071256.py:2: FutureWarning: Possible set union at position 23\n",
      "  result = re.findall( \"/wiki/[a-z || A-Z || _ || ( || ) || %C3%B3 || %C4%85 || %C4%87 || %C4%99 \\\n",
      "C:\\Users\\wooch\\AppData\\Local\\Temp\\ipykernel_6132\\1764071256.py:2: FutureWarning: Possible set union at position 28\n",
      "  result = re.findall( \"/wiki/[a-z || A-Z || _ || ( || ) || %C3%B3 || %C4%85 || %C4%87 || %C4%99 \\\n",
      "C:\\Users\\wooch\\AppData\\Local\\Temp\\ipykernel_6132\\1764071256.py:2: FutureWarning: Possible set union at position 33\n",
      "  result = re.findall( \"/wiki/[a-z || A-Z || _ || ( || ) || %C3%B3 || %C4%85 || %C4%87 || %C4%99 \\\n",
      "C:\\Users\\wooch\\AppData\\Local\\Temp\\ipykernel_6132\\1764071256.py:2: FutureWarning: Possible set union at position 43\n",
      "  result = re.findall( \"/wiki/[a-z || A-Z || _ || ( || ) || %C3%B3 || %C4%85 || %C4%87 || %C4%99 \\\n",
      "C:\\Users\\wooch\\AppData\\Local\\Temp\\ipykernel_6132\\1764071256.py:2: FutureWarning: Possible set union at position 53\n",
      "  result = re.findall( \"/wiki/[a-z || A-Z || _ || ( || ) || %C3%B3 || %C4%85 || %C4%87 || %C4%99 \\\n",
      "C:\\Users\\wooch\\AppData\\Local\\Temp\\ipykernel_6132\\1764071256.py:2: FutureWarning: Possible set union at position 63\n",
      "  result = re.findall( \"/wiki/[a-z || A-Z || _ || ( || ) || %C3%B3 || %C4%85 || %C4%87 || %C4%99 \\\n",
      "C:\\Users\\wooch\\AppData\\Local\\Temp\\ipykernel_6132\\1764071256.py:2: FutureWarning: Possible set union at position 97\n",
      "  result = re.findall( \"/wiki/[a-z || A-Z || _ || ( || ) || %C3%B3 || %C4%85 || %C4%87 || %C4%99 \\\n",
      "C:\\Users\\wooch\\AppData\\Local\\Temp\\ipykernel_6132\\1764071256.py:2: FutureWarning: Possible set union at position 107\n",
      "  result = re.findall( \"/wiki/[a-z || A-Z || _ || ( || ) || %C3%B3 || %C4%85 || %C4%87 || %C4%99 \\\n",
      "C:\\Users\\wooch\\AppData\\Local\\Temp\\ipykernel_6132\\1764071256.py:2: FutureWarning: Possible set union at position 117\n",
      "  result = re.findall( \"/wiki/[a-z || A-Z || _ || ( || ) || %C3%B3 || %C4%85 || %C4%87 || %C4%99 \\\n",
      "C:\\Users\\wooch\\AppData\\Local\\Temp\\ipykernel_6132\\1764071256.py:2: FutureWarning: Possible set union at position 127\n",
      "  result = re.findall( \"/wiki/[a-z || A-Z || _ || ( || ) || %C3%B3 || %C4%85 || %C4%87 || %C4%99 \\\n",
      "C:\\Users\\wooch\\AppData\\Local\\Temp\\ipykernel_6132\\1764071256.py:2: FutureWarning: Possible set union at position 137\n",
      "  result = re.findall( \"/wiki/[a-z || A-Z || _ || ( || ) || %C3%B3 || %C4%85 || %C4%87 || %C4%99 \\\n",
      "C:\\Users\\wooch\\AppData\\Local\\Temp\\ipykernel_6132\\1764071256.py:2: FutureWarning: Possible set union at position 147\n",
      "  result = re.findall( \"/wiki/[a-z || A-Z || _ || ( || ) || %C3%B3 || %C4%85 || %C4%87 || %C4%99 \\\n",
      "C:\\Users\\wooch\\AppData\\Local\\Temp\\ipykernel_6132\\1764071256.py:2: FutureWarning: Possible set union at position 157\n",
      "  result = re.findall( \"/wiki/[a-z || A-Z || _ || ( || ) || %C3%B3 || %C4%85 || %C4%87 || %C4%99 \\\n",
      "C:\\Users\\wooch\\AppData\\Local\\Temp\\ipykernel_6132\\1764071256.py:2: FutureWarning: Possible set union at position 191\n",
      "  result = re.findall( \"/wiki/[a-z || A-Z || _ || ( || ) || %C3%B3 || %C4%85 || %C4%87 || %C4%99 \\\n",
      "C:\\Users\\wooch\\AppData\\Local\\Temp\\ipykernel_6132\\1764071256.py:2: FutureWarning: Possible set union at position 201\n",
      "  result = re.findall( \"/wiki/[a-z || A-Z || _ || ( || ) || %C3%B3 || %C4%85 || %C4%87 || %C4%99 \\\n",
      "C:\\Users\\wooch\\AppData\\Local\\Temp\\ipykernel_6132\\1764071256.py:2: FutureWarning: Possible set union at position 211\n",
      "  result = re.findall( \"/wiki/[a-z || A-Z || _ || ( || ) || %C3%B3 || %C4%85 || %C4%87 || %C4%99 \\\n",
      "C:\\Users\\wooch\\AppData\\Local\\Temp\\ipykernel_6132\\1764071256.py:2: FutureWarning: Possible set union at position 221\n",
      "  result = re.findall( \"/wiki/[a-z || A-Z || _ || ( || ) || %C3%B3 || %C4%85 || %C4%87 || %C4%99 \\\n",
      "C:\\Users\\wooch\\AppData\\Local\\Temp\\ipykernel_6132\\1764071256.py:2: FutureWarning: Possible set union at position 231\n",
      "  result = re.findall( \"/wiki/[a-z || A-Z || _ || ( || ) || %C3%B3 || %C4%85 || %C4%87 || %C4%99 \\\n",
      "C:\\Users\\wooch\\AppData\\Local\\Temp\\ipykernel_6132\\1764071256.py:2: FutureWarning: Possible set union at position 241\n",
      "  result = re.findall( \"/wiki/[a-z || A-Z || _ || ( || ) || %C3%B3 || %C4%85 || %C4%87 || %C4%99 \\\n",
      "C:\\Users\\wooch\\AppData\\Local\\Temp\\ipykernel_6132\\1764071256.py:2: FutureWarning: Possible set union at position 252\n",
      "  result = re.findall( \"/wiki/[a-z || A-Z || _ || ( || ) || %C3%B3 || %C4%85 || %C4%87 || %C4%99 \\\n",
      "C:\\Users\\wooch\\AppData\\Local\\Temp\\ipykernel_6132\\1764071256.py:2: FutureWarning: Possible set union at position 262\n",
      "  result = re.findall( \"/wiki/[a-z || A-Z || _ || ( || ) || %C3%B3 || %C4%85 || %C4%87 || %C4%99 \\\n",
      "C:\\Users\\wooch\\AppData\\Local\\Temp\\ipykernel_6132\\1764071256.py:2: FutureWarning: Possible set union at position 308\n",
      "  result = re.findall( \"/wiki/[a-z || A-Z || _ || ( || ) || %C3%B3 || %C4%85 || %C4%87 || %C4%99 \\\n"
     ]
    }
   ],
   "source": [
    "url = [ href for href in links ]\n",
    "result = re.findall( \"/wiki/[a-z || A-Z || _ || ( || ) || %C3%B3 || %C4%85 || %C4%87 || %C4%99 \\\n",
    "                        || %C5%82 || %C5%84 || %C3%B3 || %C5%9B || %C5%BA || %C5%BC || \\\n",
    "                        %C4%84 || %C4%86 || %C4%98 || %C5%81 || %C5%83 || %C3%93 || %C5%9A\\ || %C5%B9 ||%C5%BB]*.\\\" title=\\\"[A-Za-zżźćńółęąśŻŹĆĄŚĘŁÓŃ || \\s]*\" , \n",
    "                        str(url) ) \n",
    "del result[1042:]\n",
    "del result[0:172] "
   ]
  },
  {
   "cell_type": "code",
   "execution_count": 3,
   "metadata": {},
   "outputs": [],
   "source": [
    "citiesAdresses = []\n",
    "for adress in result:\n",
    "    endAdress = adress.find('\"')\n",
    "    fullAdress = \"https://pl.wikipedia.org/wiki/\" + adress[6:endAdress]\n",
    "    cityname = adress[endAdress+9:]\n",
    "    citiesAdresses.append( [cityname, fullAdress] )\n",
    "\n",
    "df = pd.DataFrame( citiesAdresses )\n",
    "df.to_csv(\"cities.csv\")"
   ]
  }
 ],
 "metadata": {
  "interpreter": {
   "hash": "0bfdf490f0665571e0f26ab921e6f226442f0f2715131240762cad6b7ef65b32"
  },
  "kernelspec": {
   "display_name": "Python 3.10.4 ('workspace_datascience')",
   "language": "python",
   "name": "python3"
  },
  "language_info": {
   "codemirror_mode": {
    "name": "ipython",
    "version": 3
   },
   "file_extension": ".py",
   "mimetype": "text/x-python",
   "name": "python",
   "nbconvert_exporter": "python",
   "pygments_lexer": "ipython3",
   "version": "3.10.4"
  },
  "orig_nbformat": 4
 },
 "nbformat": 4,
 "nbformat_minor": 2
}
