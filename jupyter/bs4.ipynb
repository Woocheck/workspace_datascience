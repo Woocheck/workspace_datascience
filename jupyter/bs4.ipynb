{
 "cells": [
  {
   "cell_type": "code",
   "execution_count": 1,
   "metadata": {},
   "outputs": [
    {
     "name": "stdout",
     "output_type": "stream",
     "text": [
      "list of function names: ['random.seed', 'random.getstate', 'random.setstate', 'random.randbytes', 'random.randrange']\n",
      "\n",
      "function description: Initialize the random number generator. If a is omitted or None, the current system time is used.  If randomness sources are provided by the operating system, they are used instead of the system time (see the os.urandom() function for details on availability). If a is an int, it is used directly. With version 2 (the default), a str, bytes, or bytearray object gets converted to an int and all of its bits are used. With version 1 (provided for reproducing random sequences from older versions of Python), the algorithm for str and bytes generates a narrower range of seeds.  Changed in version 3.2: Moved to the version 2 scheme which uses all of the bits in a string seed.   Deprecated since version 3.9: In the future, the seed must be one of the following types: NoneType, int, float, str, bytes, or bytearray.  \n",
      "\n",
      "number of items in function names: 25\n",
      "number of items in function description: 25\n"
     ]
    }
   ],
   "source": [
    "import urllib.request\n",
    "from bs4 import BeautifulSoup as bs\n",
    "import re\n",
    "import pandas as pd\n",
    "\n",
    "#load html code from a url\n",
    "page = urllib.request.urlopen(\"https://docs.python.org/3/library/random.html\")\n",
    "soup = bs(page)\n",
    "\n",
    "#find all function names\n",
    "names = soup.body.findAll('dt')\n",
    "function_names = re.findall('id=\"random.\\w+', str(names))\n",
    "function_names = [item[4:] for item in function_names]\n",
    "\n",
    "#find all function descriptions\n",
    "description = soup.body.findAll('dd')\n",
    "function_usage = []\n",
    "\n",
    "for item in description:\n",
    "  item = item.text\n",
    "  item = item.replace('\\n', ' ')\n",
    "  function_usage.append(item)\n",
    "\n",
    "print('list of function names:',function_names[:5])\n",
    "print('\\nfunction description:', function_usage[0])\n",
    "print('\\nnumber of items in function names:', len(function_names))\n",
    "print('number of items in function description:', len(function_usage))"
   ]
  }
 ],
 "metadata": {
  "interpreter": {
   "hash": "0bfdf490f0665571e0f26ab921e6f226442f0f2715131240762cad6b7ef65b32"
  },
  "kernelspec": {
   "display_name": "Python 3.10.4 ('workspace_datascience')",
   "language": "python",
   "name": "python3"
  },
  "language_info": {
   "codemirror_mode": {
    "name": "ipython",
    "version": 3
   },
   "file_extension": ".py",
   "mimetype": "text/x-python",
   "name": "python",
   "nbconvert_exporter": "python",
   "pygments_lexer": "ipython3",
   "version": "3.10.4"
  },
  "orig_nbformat": 4
 },
 "nbformat": 4,
 "nbformat_minor": 2
}
