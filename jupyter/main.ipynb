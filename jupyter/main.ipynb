{
 "cells": [
  {
   "cell_type": "code",
   "execution_count": 9,
   "metadata": {},
   "outputs": [],
   "source": [
    "#imports here\n",
    "from selenium import webdriver\n",
    "from selenium.webdriver.common.keys import Keys\n",
    "from selenium.webdriver.support import expected_conditions as EC\n",
    "from selenium.webdriver.common.by import By\n",
    "from selenium.webdriver.support.wait import WebDriverWait\n",
    "import time"
   ]
  },
  {
   "cell_type": "code",
   "execution_count": 10,
   "metadata": {},
   "outputs": [
    {
     "name": "stderr",
     "output_type": "stream",
     "text": [
      "C:\\Users\\wooch\\AppData\\Local\\Temp\\ipykernel_3600\\3612707535.py:2: DeprecationWarning: firefox_profile has been deprecated, please pass in an Options object\n",
      "  driver = webdriver.Firefox(\"G:\\chrom\\chromedriver.exe\")\n"
     ]
    },
    {
     "ename": "NotADirectoryError",
     "evalue": "[WinError 267] Nazwa katalogu jest nieprawidłowa: 'G:\\\\chrom\\\\chromedriver.exe'",
     "output_type": "error",
     "traceback": [
      "\u001b[1;31m---------------------------------------------------------------------------\u001b[0m",
      "\u001b[1;31mNotADirectoryError\u001b[0m                        Traceback (most recent call last)",
      "\u001b[1;32mg:\\workspace_datascience\\workspace_datascience\\jupyter\\main.ipynb Cell 2'\u001b[0m in \u001b[0;36m<cell line: 2>\u001b[1;34m()\u001b[0m\n\u001b[0;32m      <a href='vscode-notebook-cell:/g%3A/workspace_datascience/workspace_datascience/jupyter/main.ipynb#ch0000001?line=0'>1</a>\u001b[0m \u001b[39m#specify the path to chromedriver.exe (download and save on your computer)\u001b[39;00m\n\u001b[1;32m----> <a href='vscode-notebook-cell:/g%3A/workspace_datascience/workspace_datascience/jupyter/main.ipynb#ch0000001?line=1'>2</a>\u001b[0m driver \u001b[39m=\u001b[39m webdriver\u001b[39m.\u001b[39;49mFirefox(\u001b[39m\"\u001b[39;49m\u001b[39mG:\u001b[39;49m\u001b[39m\\\u001b[39;49m\u001b[39mchrom\u001b[39;49m\u001b[39m\\\u001b[39;49m\u001b[39mchromedriver.exe\u001b[39;49m\u001b[39m\"\u001b[39;49m)\n\u001b[0;32m      <a href='vscode-notebook-cell:/g%3A/workspace_datascience/workspace_datascience/jupyter/main.ipynb#ch0000001?line=3'>4</a>\u001b[0m \u001b[39m#open the webpage\u001b[39;00m\n\u001b[0;32m      <a href='vscode-notebook-cell:/g%3A/workspace_datascience/workspace_datascience/jupyter/main.ipynb#ch0000001?line=4'>5</a>\u001b[0m driver\u001b[39m.\u001b[39mget(\u001b[39m\"\u001b[39m\u001b[39mhttp://www.instagram.com\u001b[39m\u001b[39m\"\u001b[39m)\n",
      "File \u001b[1;32mc:\\Users\\wooch\\anaconda3\\envs\\workspace_datascience\\lib\\site-packages\\selenium\\webdriver\\firefox\\webdriver.py:160\u001b[0m, in \u001b[0;36mWebDriver.__init__\u001b[1;34m(self, firefox_profile, firefox_binary, capabilities, proxy, executable_path, options, service_log_path, service_args, service, desired_capabilities, log_path, keep_alive)\u001b[0m\n\u001b[0;32m    <a href='file:///c%3A/Users/wooch/anaconda3/envs/workspace_datascience/lib/site-packages/selenium/webdriver/firefox/webdriver.py?line=157'>158</a>\u001b[0m \u001b[39mif\u001b[39;00m firefox_profile:\n\u001b[0;32m    <a href='file:///c%3A/Users/wooch/anaconda3/envs/workspace_datascience/lib/site-packages/selenium/webdriver/firefox/webdriver.py?line=158'>159</a>\u001b[0m     \u001b[39mif\u001b[39;00m \u001b[39misinstance\u001b[39m(firefox_profile, \u001b[39mstr\u001b[39m):\n\u001b[1;32m--> <a href='file:///c%3A/Users/wooch/anaconda3/envs/workspace_datascience/lib/site-packages/selenium/webdriver/firefox/webdriver.py?line=159'>160</a>\u001b[0m         firefox_profile \u001b[39m=\u001b[39m FirefoxProfile(firefox_profile)\n\u001b[0;32m    <a href='file:///c%3A/Users/wooch/anaconda3/envs/workspace_datascience/lib/site-packages/selenium/webdriver/firefox/webdriver.py?line=160'>161</a>\u001b[0m     \u001b[39mself\u001b[39m\u001b[39m.\u001b[39mprofile \u001b[39m=\u001b[39m firefox_profile\n\u001b[0;32m    <a href='file:///c%3A/Users/wooch/anaconda3/envs/workspace_datascience/lib/site-packages/selenium/webdriver/firefox/webdriver.py?line=161'>162</a>\u001b[0m     options\u001b[39m.\u001b[39mprofile \u001b[39m=\u001b[39m firefox_profile\n",
      "File \u001b[1;32mc:\\Users\\wooch\\anaconda3\\envs\\workspace_datascience\\lib\\site-packages\\selenium\\webdriver\\firefox\\firefox_profile.py:74\u001b[0m, in \u001b[0;36mFirefoxProfile.__init__\u001b[1;34m(self, profile_directory)\u001b[0m\n\u001b[0;32m     <a href='file:///c%3A/Users/wooch/anaconda3/envs/workspace_datascience/lib/site-packages/selenium/webdriver/firefox/firefox_profile.py?line=71'>72</a>\u001b[0m \u001b[39mself\u001b[39m\u001b[39m.\u001b[39mtempfolder \u001b[39m=\u001b[39m tempfile\u001b[39m.\u001b[39mmkdtemp()\n\u001b[0;32m     <a href='file:///c%3A/Users/wooch/anaconda3/envs/workspace_datascience/lib/site-packages/selenium/webdriver/firefox/firefox_profile.py?line=72'>73</a>\u001b[0m newprof \u001b[39m=\u001b[39m os\u001b[39m.\u001b[39mpath\u001b[39m.\u001b[39mjoin(\u001b[39mself\u001b[39m\u001b[39m.\u001b[39mtempfolder, \u001b[39m\"\u001b[39m\u001b[39mwebdriver-py-profilecopy\u001b[39m\u001b[39m\"\u001b[39m)\n\u001b[1;32m---> <a href='file:///c%3A/Users/wooch/anaconda3/envs/workspace_datascience/lib/site-packages/selenium/webdriver/firefox/firefox_profile.py?line=73'>74</a>\u001b[0m shutil\u001b[39m.\u001b[39;49mcopytree(\u001b[39mself\u001b[39;49m\u001b[39m.\u001b[39;49mprofile_dir, newprof,\n\u001b[0;32m     <a href='file:///c%3A/Users/wooch/anaconda3/envs/workspace_datascience/lib/site-packages/selenium/webdriver/firefox/firefox_profile.py?line=74'>75</a>\u001b[0m                 ignore\u001b[39m=\u001b[39;49mshutil\u001b[39m.\u001b[39;49mignore_patterns(\u001b[39m\"\u001b[39;49m\u001b[39mparent.lock\u001b[39;49m\u001b[39m\"\u001b[39;49m, \u001b[39m\"\u001b[39;49m\u001b[39mlock\u001b[39;49m\u001b[39m\"\u001b[39;49m, \u001b[39m\"\u001b[39;49m\u001b[39m.parentlock\u001b[39;49m\u001b[39m\"\u001b[39;49m))\n\u001b[0;32m     <a href='file:///c%3A/Users/wooch/anaconda3/envs/workspace_datascience/lib/site-packages/selenium/webdriver/firefox/firefox_profile.py?line=75'>76</a>\u001b[0m \u001b[39mself\u001b[39m\u001b[39m.\u001b[39mprofile_dir \u001b[39m=\u001b[39m newprof\n\u001b[0;32m     <a href='file:///c%3A/Users/wooch/anaconda3/envs/workspace_datascience/lib/site-packages/selenium/webdriver/firefox/firefox_profile.py?line=76'>77</a>\u001b[0m os\u001b[39m.\u001b[39mchmod(\u001b[39mself\u001b[39m\u001b[39m.\u001b[39mprofile_dir, \u001b[39m0o755\u001b[39m)\n",
      "File \u001b[1;32mc:\\Users\\wooch\\anaconda3\\envs\\workspace_datascience\\lib\\shutil.py:554\u001b[0m, in \u001b[0;36mcopytree\u001b[1;34m(src, dst, symlinks, ignore, copy_function, ignore_dangling_symlinks, dirs_exist_ok)\u001b[0m\n\u001b[0;32m    <a href='file:///c%3A/Users/wooch/anaconda3/envs/workspace_datascience/lib/shutil.py?line=516'>517</a>\u001b[0m \u001b[39m\"\"\"Recursively copy a directory tree and return the destination directory.\u001b[39;00m\n\u001b[0;32m    <a href='file:///c%3A/Users/wooch/anaconda3/envs/workspace_datascience/lib/shutil.py?line=517'>518</a>\u001b[0m \n\u001b[0;32m    <a href='file:///c%3A/Users/wooch/anaconda3/envs/workspace_datascience/lib/shutil.py?line=518'>519</a>\u001b[0m \u001b[39mdirs_exist_ok dictates whether to raise an exception in case dst or any\u001b[39;00m\n\u001b[1;32m   (...)\u001b[0m\n\u001b[0;32m    <a href='file:///c%3A/Users/wooch/anaconda3/envs/workspace_datascience/lib/shutil.py?line=550'>551</a>\u001b[0m \n\u001b[0;32m    <a href='file:///c%3A/Users/wooch/anaconda3/envs/workspace_datascience/lib/shutil.py?line=551'>552</a>\u001b[0m \u001b[39m\"\"\"\u001b[39;00m\n\u001b[0;32m    <a href='file:///c%3A/Users/wooch/anaconda3/envs/workspace_datascience/lib/shutil.py?line=552'>553</a>\u001b[0m sys\u001b[39m.\u001b[39maudit(\u001b[39m\"\u001b[39m\u001b[39mshutil.copytree\u001b[39m\u001b[39m\"\u001b[39m, src, dst)\n\u001b[1;32m--> <a href='file:///c%3A/Users/wooch/anaconda3/envs/workspace_datascience/lib/shutil.py?line=553'>554</a>\u001b[0m \u001b[39mwith\u001b[39;00m os\u001b[39m.\u001b[39;49mscandir(src) \u001b[39mas\u001b[39;00m itr:\n\u001b[0;32m    <a href='file:///c%3A/Users/wooch/anaconda3/envs/workspace_datascience/lib/shutil.py?line=554'>555</a>\u001b[0m     entries \u001b[39m=\u001b[39m \u001b[39mlist\u001b[39m(itr)\n\u001b[0;32m    <a href='file:///c%3A/Users/wooch/anaconda3/envs/workspace_datascience/lib/shutil.py?line=555'>556</a>\u001b[0m \u001b[39mreturn\u001b[39;00m _copytree(entries\u001b[39m=\u001b[39mentries, src\u001b[39m=\u001b[39msrc, dst\u001b[39m=\u001b[39mdst, symlinks\u001b[39m=\u001b[39msymlinks,\n\u001b[0;32m    <a href='file:///c%3A/Users/wooch/anaconda3/envs/workspace_datascience/lib/shutil.py?line=556'>557</a>\u001b[0m                  ignore\u001b[39m=\u001b[39mignore, copy_function\u001b[39m=\u001b[39mcopy_function,\n\u001b[0;32m    <a href='file:///c%3A/Users/wooch/anaconda3/envs/workspace_datascience/lib/shutil.py?line=557'>558</a>\u001b[0m                  ignore_dangling_symlinks\u001b[39m=\u001b[39mignore_dangling_symlinks,\n\u001b[0;32m    <a href='file:///c%3A/Users/wooch/anaconda3/envs/workspace_datascience/lib/shutil.py?line=558'>559</a>\u001b[0m                  dirs_exist_ok\u001b[39m=\u001b[39mdirs_exist_ok)\n",
      "\u001b[1;31mNotADirectoryError\u001b[0m: [WinError 267] Nazwa katalogu jest nieprawidłowa: 'G:\\\\chrom\\\\chromedriver.exe'"
     ]
    }
   ],
   "source": [
    "#specify the path to chromedriver.exe (download and save on your computer)\n",
    "driver = webdriver.Firefox(\"G:\\chrom\\chromedriver.exe\")\n",
    "\n",
    "#open the webpage\n",
    "driver.get(\"http://www.instagram.com\")\n",
    "\n",
    "#target username\n",
    "username = WebDriverWait(driver, 10).until(EC.element_to_be_clickable((By.CSS_SELECTOR, \"input[name='username']\")))\n",
    "password = WebDriverWait(driver, 10).until(EC.element_to_be_clickable((By.CSS_SELECTOR, \"input[name='password']\")))\n",
    "\n",
    "#enter username and password\n",
    "username.clear()\n",
    "username.send_keys(\"my_username\")\n",
    "password.clear()\n",
    "password.send_keys(\"my_password\")\n",
    "\n",
    "#target the login button and click it\n",
    "button = WebDriverWait(driver, 2).until(EC.element_to_be_clickable((By.CSS_SELECTOR, \"button[type='submit']\"))).click()\n",
    "\n",
    "#We are logged in!"
   ]
  },
  {
   "cell_type": "code",
   "execution_count": null,
   "metadata": {},
   "outputs": [],
   "source": [
    "time.sleep(5)\n",
    "alert = WebDriverWait(driver, 15).until(EC.element_to_be_clickable((By.XPATH, '//button[contains(text(), \"Not Now\")]'))).click()\n",
    "#alert2 = WebDriverWait(driver, 15).until(EC.element_to_be_clickable((By.XPATH, '//button[contains(text(), \"Not Now\")]'))).click()"
   ]
  },
  {
   "cell_type": "code",
   "execution_count": null,
   "metadata": {},
   "outputs": [],
   "source": [
    "#target the search input field\n",
    "searchbox = WebDriverWait(driver, 10).until(EC.element_to_be_clickable((By.XPATH, \"//input[@placeholder='Search']\")))\n",
    "searchbox.clear()\n",
    "\n",
    "#search for the hashtag cat\n",
    "keyword = \"#cat\"\n",
    "searchbox.send_keys(keyword)\n",
    " \n",
    "#FIXING THE DOUBLE ENTER\n",
    "time.sleep(5) # Wait for 5 seconds\n",
    "my_link = WebDriverWait(driver, 10).until(EC.element_to_be_clickable((By.XPATH, \"//a[contains(@href, '/\" + keyword[1:] + \"/')]\")))\n",
    "my_link.click()"
   ]
  },
  {
   "cell_type": "code",
   "execution_count": null,
   "metadata": {},
   "outputs": [],
   "source": [
    "#scroll down 2 times\n",
    "#increase the range to sroll more\n",
    "n_scrolls = 2\n",
    "for j in range(0, n_scrolls):\n",
    "    driver.execute_script(\"window.scrollTo(0, document.body.scrollHeight);\")\n",
    "    time.sleep(5)"
   ]
  },
  {
   "cell_type": "code",
   "execution_count": null,
   "metadata": {},
   "outputs": [],
   "source": [
    "#target all the link elements on the page\n",
    "anchors = driver.find_elements_by_tag_name('a')\n",
    "anchors = [a.get_attribute('href') for a in anchors]\n",
    "#narrow down all links to image links only\n",
    "anchors = [a for a in anchors if str(a).startswith(\"https://www.instagram.com/p/\")]\n",
    "\n",
    "print('Found ' + str(len(anchors)) + ' links to images')\n",
    "anchors[:5]"
   ]
  },
  {
   "cell_type": "code",
   "execution_count": null,
   "metadata": {},
   "outputs": [],
   "source": [
    "images = []\n",
    "\n",
    "#follow each image link and extract only image at index=1\n",
    "for a in anchors:\n",
    "    driver.get(a)\n",
    "    time.sleep(5)\n",
    "    img = driver.find_elements_by_tag_name('img')\n",
    "    img = [i.get_attribute('src') for i in img]\n",
    "    images.append(img[1])\n",
    "    \n",
    "images[:5]   "
   ]
  }
 ],
 "metadata": {
  "interpreter": {
   "hash": "0bfdf490f0665571e0f26ab921e6f226442f0f2715131240762cad6b7ef65b32"
  },
  "kernelspec": {
   "display_name": "Python 3.10.4 ('workspace_datascience')",
   "language": "python",
   "name": "python3"
  },
  "language_info": {
   "codemirror_mode": {
    "name": "ipython",
    "version": 3
   },
   "file_extension": ".py",
   "mimetype": "text/x-python",
   "name": "python",
   "nbconvert_exporter": "python",
   "pygments_lexer": "ipython3",
   "version": "3.10.4"
  },
  "orig_nbformat": 4
 },
 "nbformat": 4,
 "nbformat_minor": 2
}
